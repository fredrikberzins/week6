{
 "cells": [
  {
   "cell_type": "markdown",
   "id": "interracial-twins",
   "metadata": {},
   "source": [
    "# Eiffeltornet\n",
    "\n",
    "![eiffeltornet](https://pixfeeds.com/images/france/travel/1280-466478690-eiffel-tower-at-winter.jpg)\n",
    "\n",
    "<br>\n",
    "\n",
    "*Vad skulle man kunna ställa för frågor till den här bilden?*\n",
    "\n",
    "<div style=\"height:100px\" />\n"
   ]
  },
  {
   "cell_type": "markdown",
   "id": "subsequent-miracle",
   "metadata": {},
   "source": [
    "# Övning 1\n",
    "\n",
    "**Fråga: <mark>Vad skulle det kosta i elräkning att hissa upp en bil till Eiffeltornets topp?</mark>**\n",
    "\n",
    "<img src=\"https://history.vattenfall.com/sites/default/files/styles/articlefeaturedmedia/public/VF000208.jpg\" width=\"400\" style=\"float:right\" />\n",
    "\n",
    "1. Gissning\n",
    "2. Uppskattning\n",
    "3. Beräkning\n"
   ]
  },
  {
   "cell_type": "markdown",
   "id": "auburn-death",
   "metadata": {},
   "source": [
    "1. 20kr\n",
    "2. -||-\n",
    "3. 2.412774"
   ]
  },
  {
   "cell_type": "code",
   "execution_count": 6,
   "id": "authorized-shoulder",
   "metadata": {},
   "outputs": [
    {
     "name": "stdout",
     "output_type": "stream",
     "text": [
      "2.412774\n"
     ]
    }
   ],
   "source": [
    "mass = 1500\n",
    "height = 324\n",
    "g = 9.82\n",
    "electicity = 1.82\n",
    "energy = (1 / electicity) * 3600000\n",
    "cost = (mass * height * g) / energy\n",
    "print(cost)"
   ]
  },
  {
   "cell_type": "markdown",
   "id": "stretch-david",
   "metadata": {},
   "source": [
    "# Övning 2\n",
    "\n",
    "**Fråga: <mark>Ungefär hur lång tid skulle det ta att hissa upp den för hand, med mänsklig kraft? För dig?</mark>**\n",
    "\n",
    "<img src=\"http://www.agrc.umd.edu/gamera/gamera2/images/human-power1.png\" />\n"
   ]
  },
  {
   "cell_type": "markdown",
   "id": "conditional-salad",
   "metadata": {},
   "source": [
    "1. 03:20\n",
    "2. 02:40"
   ]
  },
  {
   "cell_type": "code",
   "execution_count": 7,
   "id": "static-shoulder",
   "metadata": {},
   "outputs": [
    {
     "name": "stdout",
     "output_type": "stream",
     "text": [
      "2.6514\n"
     ]
    }
   ],
   "source": [
    "cost = (mass * height * g)\n",
    "output = 500\n",
    "time = cost / output\n",
    "time = time / 60 / 60\n",
    "print(time)"
   ]
  },
  {
   "cell_type": "markdown",
   "id": "prospective-court",
   "metadata": {},
   "source": [
    "# Övning 3\n",
    "\n",
    "**Fråga: <mark>Hur många varv måste du veva?</mark>**\n",
    "\n",
    "<img src=\"http://www.agrc.umd.edu/gamera/gamera2/images/human-power1.png\" />\n"
   ]
  },
  {
   "cell_type": "markdown",
   "id": "engaged-niagara",
   "metadata": {},
   "source": [
    "många minst "
   ]
  }
 ],
 "metadata": {
  "kernelspec": {
   "display_name": "Python 3",
   "language": "python",
   "name": "python3"
  },
  "language_info": {
   "codemirror_mode": {
    "name": "ipython",
    "version": 3
   },
   "file_extension": ".py",
   "mimetype": "text/x-python",
   "name": "python",
   "nbconvert_exporter": "python",
   "pygments_lexer": "ipython3",
   "version": "3.8.0"
  }
 },
 "nbformat": 4,
 "nbformat_minor": 5
}
