{
 "cells": [
  {
   "cell_type": "markdown",
   "id": "exotic-relay",
   "metadata": {},
   "source": [
    "# Domkraft\n",
    "\n",
    "Kolla först på följande video (4:30) \n",
    "\n",
    "[Hydraulics (Youtube)](https://www.youtube.com/watch?v=DdZnknku8b8)\n",
    "\n",
    "**Klar?**\n",
    "\n",
    "Studera sedan nedanstående bild. Ser du att det sker <mark>två typer av förstärkning</mark> här? Vilka då? Var?\n",
    "\n",
    "<img src=\"http://4.bp.blogspot.com/-Fp3YqbOBnPg/V2caI5V33UI/AAAAAAAACMg/S_GuIoWH2-4q2DoDjH3EChMay49SBMabQCK4B/s1600/large.56e5180aeb4af_Workingprincipleofhydraulicjack.jpg.30b57428c13a273f428ee24c882159e2.jpg\" width=\"600\" />\n",
    "\n",
    "### Frågor\n",
    "\n",
    "- Vad är SI-enheten för tryck?\n",
    "- Vad betyder att en vätska är inkompressibel?\n",
    "- Vad är poängen med att använda hydraulik?\n",
    "- Hur räknar man ut kraftförstärkning?\n"
   ]
  },
  {
   "cell_type": "markdown",
   "id": "caroline-costs",
   "metadata": {},
   "source": [
    "# Övning: Punka på bilen\n",
    "\n",
    "<img src=\"https://g.foolcdn.com/editorial/images/451915/flat-tire.jpg\" width=\"400\" />\n",
    "\n",
    "Personen på bilden behöver lyfta upp en del av sin bil för att kunna byta till reservdäck.\n",
    "\n",
    "Hon har [denna](https://www.biltema.se/bil---mc/verkstadsutrustning/lyftutrustning/domkrafter/hydraulisk-domkraft-2000017058) hydrauliska domkraft från Biltema.\n",
    "\n",
    "**Fråga: <mark>Med vilken kraft kommer hon behöva pumpa?</mark>**\n",
    "\n",
    "1. Skapa en beräkningsmodell längre ner i denna Jupyter notebook för att besvara på frågan. Gör de antaganden du behöver göra.\n",
    "2. Om du blir klar och känner att du förstår allt: Läs på om pneumatik, vad är likheter och skillnader med hydraulik?\n",
    "\n",
    "## Hon tittar i bagageluckan och hittar följande ritningar av domkraften\n",
    "\n",
    "(Jämför med illustrationen högst upp i dokumentet)\n",
    "\n",
    "<img src=\"http://patentimages.storage.googleapis.com/US20080048159A1/US20080048159A1-20080228-D00002.png\" width=\"450\" style=\"float:left\" />\n",
    "<img src=\"http://patentimages.storage.googleapis.com/US20080048159A1/US20080048159A1-20080228-D00001.png\" width=\"450\" style=\"float:right\" />\n"
   ]
  },
  {
   "cell_type": "markdown",
   "id": "hourly-horizontal",
   "metadata": {},
   "source": [
    "# Gör din beräkningsmodell nedanför\n"
   ]
  },
  {
   "cell_type": "code",
   "execution_count": null,
   "id": "spectacular-token",
   "metadata": {},
   "outputs": [],
   "source": []
  }
 ],
 "metadata": {
  "kernelspec": {
   "display_name": "Python 3",
   "language": "python",
   "name": "python3"
  },
  "language_info": {
   "codemirror_mode": {
    "name": "ipython",
    "version": 3
   },
   "file_extension": ".py",
   "mimetype": "text/x-python",
   "name": "python",
   "nbconvert_exporter": "python",
   "pygments_lexer": "ipython3",
   "version": "3.8.0"
  }
 },
 "nbformat": 4,
 "nbformat_minor": 5
}
